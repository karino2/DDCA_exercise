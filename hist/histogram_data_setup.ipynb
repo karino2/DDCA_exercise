{
  "nbformat": 4,
  "nbformat_minor": 0,
  "metadata": {
    "colab": {
      "name": "histogram_data_setup.ipynb",
      "provenance": [],
      "collapsed_sections": [],
      "include_colab_link": true
    },
    "kernelspec": {
      "name": "python3",
      "display_name": "Python 3"
    }
  },
  "cells": [
    {
      "cell_type": "markdown",
      "metadata": {
        "id": "view-in-github",
        "colab_type": "text"
      },
      "source": [
        "<a href=\"https://colab.research.google.com/github/karino2/DDCA_exercise/blob/master/hist/histogram_data_setup.ipynb\" target=\"_parent\"><img src=\"https://colab.research.google.com/assets/colab-badge.svg\" alt=\"Open In Colab\"/></a>"
      ]
    },
    {
      "cell_type": "markdown",
      "metadata": {
        "id": "74b9h0x5XYnI",
        "colab_type": "text"
      },
      "source": [
        "TinySIMTのテスト用の、ヒストグラムを求めるデータ作成回りのノートブック。\n"
      ]
    },
    {
      "cell_type": "code",
      "metadata": {
        "id": "9BSgmJnGXU-s",
        "colab_type": "code",
        "colab": {}
      },
      "source": [
        "import matplotlib.pyplot as plt\n",
        "\n",
        "target = plt.imread('hist_target.jpg')"
      ],
      "execution_count": 0,
      "outputs": []
    },
    {
      "cell_type": "markdown",
      "metadata": {
        "id": "XVo_jVekYd1b",
        "colab_type": "text"
      },
      "source": [
        "最初のターゲットは32*4バイトなので、そのデータを適当に用意する。"
      ]
    },
    {
      "cell_type": "code",
      "metadata": {
        "id": "XtTJuHbtY214",
        "colab_type": "code",
        "colab": {
          "base_uri": "https://localhost:8080/",
          "height": 34
        },
        "outputId": "d959f834-9321-4a7f-aaf2-8effa97237d4"
      },
      "source": [
        "32*4"
      ],
      "execution_count": 7,
      "outputs": [
        {
          "output_type": "execute_result",
          "data": {
            "text/plain": [
              "128"
            ]
          },
          "metadata": {
            "tags": []
          },
          "execution_count": 7
        }
      ]
    },
    {
      "cell_type": "code",
      "metadata": {
        "id": "uynUZnTVYRRh",
        "colab_type": "code",
        "colab": {
          "base_uri": "https://localhost:8080/",
          "height": 34
        },
        "outputId": "bdc240e9-3235-43ec-d662-99bec9a3cc3e"
      },
      "source": [
        "target.shape"
      ],
      "execution_count": 2,
      "outputs": [
        {
          "output_type": "execute_result",
          "data": {
            "text/plain": [
              "(120, 159, 3)"
            ]
          },
          "metadata": {
            "tags": []
          },
          "execution_count": 2
        }
      ]
    },
    {
      "cell_type": "code",
      "metadata": {
        "id": "15ylngrMZW6M",
        "colab_type": "code",
        "colab": {}
      },
      "source": [
        "target128 = [target[i//3, 0, i%3] for i in range(128)]"
      ],
      "execution_count": 0,
      "outputs": []
    },
    {
      "cell_type": "code",
      "metadata": {
        "id": "CE2GRSEBZY5i",
        "colab_type": "code",
        "colab": {
          "base_uri": "https://localhost:8080/",
          "height": 34
        },
        "outputId": "fac44f48-107c-4d77-e586-00af7d1e1f62"
      },
      "source": [
        "len(target128)"
      ],
      "execution_count": 19,
      "outputs": [
        {
          "output_type": "execute_result",
          "data": {
            "text/plain": [
              "128"
            ]
          },
          "metadata": {
            "tags": []
          },
          "execution_count": 19
        }
      ]
    },
    {
      "cell_type": "code",
      "metadata": {
        "id": "NVhKq7eOZbyV",
        "colab_type": "code",
        "colab": {
          "base_uri": "https://localhost:8080/",
          "height": 34
        },
        "outputId": "c5978285-734f-4aa3-84f5-2cdcf2f85464"
      },
      "source": [
        "target128[0:5]"
      ],
      "execution_count": 20,
      "outputs": [
        {
          "output_type": "execute_result",
          "data": {
            "text/plain": [
              "[154, 148, 116, 154, 148]"
            ]
          },
          "metadata": {
            "tags": []
          },
          "execution_count": 20
        }
      ]
    },
    {
      "cell_type": "code",
      "metadata": {
        "id": "0ROS-cD_Ya9g",
        "colab_type": "code",
        "colab": {
          "base_uri": "https://localhost:8080/",
          "height": 34
        },
        "outputId": "514fa79d-cf24-4d9c-8f75-985ac739a7d3"
      },
      "source": [
        "target[0, 0, 0], target[0, 0, 1], target[0, 0, 2], target[1, 0, 0], target[1, 0, 1]"
      ],
      "execution_count": 13,
      "outputs": [
        {
          "output_type": "execute_result",
          "data": {
            "text/plain": [
              "(154, 148, 116, 154, 148)"
            ]
          },
          "metadata": {
            "tags": []
          },
          "execution_count": 13
        }
      ]
    },
    {
      "cell_type": "markdown",
      "metadata": {
        "id": "UnoN3MHtZkjU",
        "colab_type": "text"
      },
      "source": [
        "target128をtclのmwコマンドやreadmemh形式として出力。"
      ]
    },
    {
      "cell_type": "code",
      "metadata": {
        "id": "L_FleLOyauyl",
        "colab_type": "code",
        "colab": {
          "base_uri": "https://localhost:8080/",
          "height": 34
        },
        "outputId": "ca684adf-7308-470a-a6d9-c83e9e064399"
      },
      "source": [
        "['{:08X}'.format((target128[i]<<24) + (target128[i+1]<<16) +(target128[i+2]<<8) +target128[i+3] ) for i in range(3)]"
      ],
      "execution_count": 30,
      "outputs": [
        {
          "output_type": "execute_result",
          "data": {
            "text/plain": [
              "['9A94749A', '94749A94', '749A9474']"
            ]
          },
          "metadata": {
            "tags": []
          },
          "execution_count": 30
        }
      ]
    },
    {
      "cell_type": "code",
      "metadata": {
        "id": "XNz3OQFEZjbN",
        "colab_type": "code",
        "colab": {}
      },
      "source": [
        "with open(\"hist_target.mem\", \"w\") as f:\n",
        "  for i in range(32):\n",
        "    f.write('{:08X}\\n'.format((target128[i]<<24) + (target128[i+1]<<16) +(target128[i+2]<<8) +target128[i+3]))"
      ],
      "execution_count": 0,
      "outputs": []
    },
    {
      "cell_type": "code",
      "metadata": {
        "id": "OH7nGgeOcVKx",
        "colab_type": "code",
        "colab": {}
      },
      "source": [
        "with open(\"write_target.tcl\", \"w\") as f:\n",
        "  for i in range(32):\n",
        "    f.write('mw {} {}\\n'.format(i*4, (target128[i]<<24) + (target128[i+1]<<16) +(target128[i+2]<<8) +target128[i+3]))"
      ],
      "execution_count": 0,
      "outputs": []
    },
    {
      "cell_type": "code",
      "metadata": {
        "id": "roU5SzdEcU7x",
        "colab_type": "code",
        "colab": {
          "base_uri": "https://localhost:8080/",
          "height": 34
        },
        "outputId": "9857b201-5b56-4d6f-d94f-9a444e443a67"
      },
      "source": [
        "['{} {}'.format(i, (target128[i]<<24) + (target128[i+1]<<16) +(target128[i+2]<<8) +target128[i+3] ) for i in range(3)]"
      ],
      "execution_count": 38,
      "outputs": [
        {
          "output_type": "execute_result",
          "data": {
            "text/plain": [
              "['0 2593420442', '1 2490669716', '2 1956287604']"
            ]
          },
          "metadata": {
            "tags": []
          },
          "execution_count": 38
        }
      ]
    },
    {
      "cell_type": "markdown",
      "metadata": {
        "id": "blRAT5aydz4L",
        "colab_type": "text"
      },
      "source": [
        "答えも計算しておく。"
      ]
    },
    {
      "cell_type": "code",
      "metadata": {
        "id": "w6vfUM2Mdym3",
        "colab_type": "code",
        "colab": {}
      },
      "source": [
        "ans = {i: 0 for i in range(256)}"
      ],
      "execution_count": 0,
      "outputs": []
    },
    {
      "cell_type": "code",
      "metadata": {
        "id": "6VQ_jrVNZQyy",
        "colab_type": "code",
        "colab": {}
      },
      "source": [
        "for val in target128:\n",
        "  ans[val]+=1"
      ],
      "execution_count": 0,
      "outputs": []
    },
    {
      "cell_type": "code",
      "metadata": {
        "id": "RULIU3oyeBRZ",
        "colab_type": "code",
        "colab": {
          "base_uri": "https://localhost:8080/",
          "height": 34
        },
        "outputId": "e6ae2d94-505d-41d6-f691-914a3f1fb05c"
      },
      "source": [
        "[ans[i] for i in range (150, 170)]"
      ],
      "execution_count": 49,
      "outputs": [
        {
          "output_type": "execute_result",
          "data": {
            "text/plain": [
              "[9, 4, 1, 0, 3, 0, 2, 0, 1, 1, 0, 2, 0, 1, 2, 2, 1, 3, 0, 2]"
            ]
          },
          "metadata": {
            "tags": []
          },
          "execution_count": 49
        }
      ]
    },
    {
      "cell_type": "code",
      "metadata": {
        "id": "v__-ZVa_er-y",
        "colab_type": "code",
        "colab": {
          "base_uri": "https://localhost:8080/",
          "height": 34
        },
        "outputId": "048606fb-8949-4442-90fd-1fd5d8430b10"
      },
      "source": [
        "sum(ans.values())"
      ],
      "execution_count": 55,
      "outputs": [
        {
          "output_type": "execute_result",
          "data": {
            "text/plain": [
              "128"
            ]
          },
          "metadata": {
            "tags": []
          },
          "execution_count": 55
        }
      ]
    },
    {
      "cell_type": "code",
      "metadata": {
        "id": "Ll-EEOrke6nO",
        "colab_type": "code",
        "colab": {}
      },
      "source": [
        "with open(\"expect.txt\", \"w\") as f:\n",
        "  for i in range(128):\n",
        "    f.write(f\"{i}:{ans[i]}\\n\")\n"
      ],
      "execution_count": 0,
      "outputs": []
    },
    {
      "cell_type": "code",
      "metadata": {
        "id": "Jgqbw9yakqCw",
        "colab_type": "code",
        "colab": {
          "base_uri": "https://localhost:8080/",
          "height": 188
        },
        "outputId": "5efe8665-8fc8-4e42-d5b4-12e29f9cf7fb"
      },
      "source": [
        "[f\"{ans[i]:08X}\" for i in range (150, 160)]"
      ],
      "execution_count": 58,
      "outputs": [
        {
          "output_type": "execute_result",
          "data": {
            "text/plain": [
              "['00000009',\n",
              " '00000004',\n",
              " '00000001',\n",
              " '00000000',\n",
              " '00000003',\n",
              " '00000000',\n",
              " '00000002',\n",
              " '00000000',\n",
              " '00000001',\n",
              " '00000001']"
            ]
          },
          "metadata": {
            "tags": []
          },
          "execution_count": 58
        }
      ]
    },
    {
      "cell_type": "code",
      "metadata": {
        "id": "pFCsYXs3eCEQ",
        "colab_type": "code",
        "colab": {}
      },
      "source": [
        "with open(\"expect.mem\", \"w\") as f:\n",
        "  for i in range(128):\n",
        "    f.write(f\"{ans[i]:08X}\\n\")\n"
      ],
      "execution_count": 0,
      "outputs": []
    },
    {
      "cell_type": "code",
      "metadata": {
        "id": "N-603GgblFzv",
        "colab_type": "code",
        "colab": {}
      },
      "source": [
        ""
      ],
      "execution_count": 0,
      "outputs": []
    }
  ]
}